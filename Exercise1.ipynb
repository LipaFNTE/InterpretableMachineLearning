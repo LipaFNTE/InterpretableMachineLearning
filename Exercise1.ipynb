{
 "cells": [
  {
   "cell_type": "code",
   "execution_count": 1,
   "metadata": {
    "collapsed": true
   },
   "outputs": [],
   "source": [
    "import pandas as pd\n",
    "from sklearn import svm\n",
    "import numpy as np\n",
    "import matplotlib.pyplot as plt"
   ]
  },
  {
   "cell_type": "markdown",
   "metadata": {},
   "source": [
    "Wczytywanie danych..."
   ]
  },
  {
   "cell_type": "code",
   "execution_count": 2,
   "metadata": {
    "collapsed": true
   },
   "outputs": [],
   "source": [
    "data = pd.read_stata('data.dta')"
   ]
  },
  {
   "cell_type": "markdown",
   "metadata": {},
   "source": [
    "Do modelu zostały wybrane następujące zmienne:\n",
    "\n",
    "1) **ppincimp** - dochód domostwa\n",
    "\n",
    "2) **partyid7** - przynależność do partii politycznej\n",
    "\n",
    "3) **ppwork** - status zatrudnienia\n",
    "\n",
    "4) **Q6A** - czy partner jest Latynosem lub Hiszpanem\n",
    "\n",
    "W modelu zmienną objaśnianą jest binarna zmiena <u>**S1**</u> oznaczający bycie w związku małżeńskim."
   ]
  },
  {
   "cell_type": "code",
   "execution_count": 22,
   "metadata": {},
   "outputs": [],
   "source": [
    "prepared_columns = ['S1','ppincimp', 'partyid7', 'ppwork', 'Q6A']\n",
    "data_in = data[prepared_columns]"
   ]
  },
  {
   "cell_type": "markdown",
   "metadata": {},
   "source": [
    "## Tworzenie słownika \n",
    "W związku z dużą liczbą kategorii w niektorych zmiennych utworzony został słownik z kategorami i odpowiadającymi im nazwami."
   ]
  },
  {
   "cell_type": "code",
   "execution_count": 5,
   "metadata": {
    "collapsed": true
   },
   "outputs": [
    {
     "data": {
      "text/plain": [
       "{'S1': {0: 'Yes, I am Married', 1: 'No, I am not Married'},\n 'ppincimp': {0: 'Less than $5,000',\n  1: '$5,000 to $7,499',\n  2: '$7,500 to $9,999',\n  3: '$10,000 to $12,499',\n  4: '$12,500 to $14,999',\n  5: '$15,000 to $19,999',\n  6: '$20,000 to $24,999',\n  7: '$25,000 to $29,999',\n  8: '$30,000 to $34,999',\n  9: '$35,000 to $39,999',\n  10: '$40,000 to $49,999',\n  11: '$50,000 to $59,999',\n  12: '$60,000 to $74,999',\n  13: '$75,000 to $84,999',\n  14: '$85,000 to $99,999',\n  15: '$100,000 to $124,999',\n  16: '$125,000 to $149,999',\n  17: '$150,000 to $174,999',\n  18: '$175,000 to $199,999',\n  19: '$200,000 to $249,999',\n  20: '$250,000 or more'},\n 'partyid7': {0: 'Strong Republican',\n  1: 'Not Strong Republican',\n  2: 'Leans Republican',\n  3: 'Undecided/Independent/Other',\n  4: 'Leans Democrat',\n  5: 'Not Strong Democrat',\n  6: 'Strong Democrat'},\n 'ppwork': {0: 'Working - as a paid employee',\n  1: 'Working - self-employed',\n  2: 'Not working - on temporary layoff from a job',\n  3: 'Not working - looking for work',\n  4: 'Not working - retired',\n  5: 'Not working - disabled',\n  6: 'Not working - other'},\n 'Q6A': {0: 'Refused',\n  1: 'No (Not Latino or Hispanic)',\n  2: 'Yes, Mexican, Mexican American, Chicano',\n  3: 'Yes, Puerto Rican',\n  4: 'Yes, Cuban',\n  5: 'Yes, Other Latino/Hispanic'}}"
      ]
     },
     "execution_count": 5,
     "metadata": {},
     "output_type": "execute_result"
    }
   ],
   "source": [
    "categories_dict = {}\n",
    "for col in data_in.columns:\n",
    "    categories_dict[col] = dict(enumerate(data_in.loc[:, col].cat.categories))\n",
    "\n",
    "categories_dict"
   ]
  },
  {
   "cell_type": "code",
   "execution_count": 6,
   "metadata": {},
   "outputs": [
    {
     "data": {
      "text/plain": [
       "(2856, 5)"
      ]
     },
     "execution_count": 6,
     "metadata": {},
     "output_type": "execute_result"
    }
   ],
   "source": [
    "data_in = data_in.dropna()\n",
    "data_in.shape"
   ]
  },
  {
   "cell_type": "markdown",
   "metadata": {},
   "source": [
    "## Transformacja zmiennych"
   ]
  },
  {
   "cell_type": "code",
   "execution_count": 7,
   "metadata": {},
   "outputs": [],
   "source": [
    "y = data_in['S1'].cat.codes\n",
    "X = data_in.iloc[:, 1:].apply(lambda x: x.cat.codes, axis=0)"
   ]
  },
  {
   "cell_type": "markdown",
   "metadata": {},
   "source": [
    "## Utworzenie modelu"
   ]
  },
  {
   "cell_type": "code",
   "execution_count": 9,
   "metadata": {},
   "outputs": [
    {
     "data": {
      "text/plain": [
       "SVC(C=1.0, cache_size=200, class_weight=None, coef0=0.0,\n  decision_function_shape='ovr', degree=3, gamma='scale', kernel='rbf',\n  max_iter=-1, probability=True, random_state=None, shrinking=True,\n  tol=0.001, verbose=False)"
      ]
     },
     "execution_count": 9,
     "metadata": {},
     "output_type": "execute_result"
    }
   ],
   "source": [
    "svm_model = svm.SVC(gamma='scale', probability=True)\n",
    "svm_model.fit(X.values, y)"
   ]
  },
  {
   "cell_type": "markdown",
   "metadata": {},
   "source": [
    "Zostały utworzone trzy funkcje w tym jedna główna (<u>ceteris_paribus_plot</u>). \n",
    "\n",
    "Funkcja ceteris_paribus_plot przyjmuje następujące argumenty:\n",
    "1. model - model, który zostanie wyjaśniony\n",
    "1. row - którą obserwację będziemy uznawać za \"bazową\"\n",
    "1. test_x - dane do modelu\n",
    "1. random - zmienna określająca czy wybór obserwacji \"bazowej\" ma nastąpić w sposób losowy\n",
    "1. col - kolumna do wyjaśnienia\n",
    "1. categories_dict - słownik z kategoriami w zmiennych"
   ]
  },
  {
   "cell_type": "code",
   "execution_count": 19,
   "metadata": {},
   "outputs": [],
   "source": [
    "def ceteris_paribus_plot(model, row: int, test_x: pd.DataFrame, random: bool, col: str, categories_dict: dict):\n",
    "    if random:\n",
    "        selected_observation = test_x.iloc[np.random.randint(1, len(test_x)), :]\n",
    "    else:\n",
    "        selected_observation = test_x.iloc[row, :]\n",
    "        \n",
    "    possible_values = sorted(test_x[col].unique())\n",
    "    probabilities = create_probabilities(model, selected_observation, col, possible_values)\n",
    "    \n",
    "    create_plot(possible_values, probabilities, col)\n",
    "    print(categories_dict[col])\n",
    "    \n",
    "    \n",
    "def create_probabilities(model, test_x, col, possible_values):\n",
    "    probas = []\n",
    "    for i in possible_values:\n",
    "        test_x[col] = i\n",
    "        probas.append(model.predict_proba([test_x.values])[0][0])\n",
    "    \n",
    "    return probas\n",
    "\n",
    "\n",
    "def create_plot(possible_values, probabilities, col):\n",
    "    plt.plot(possible_values, probabilities, marker='o', linestyle='--', color='b')\n",
    "    plt.title(f'Ceteris Paribus plot for {col}')\n",
    "    plt.ylabel(\"Probability\")\n",
    "    plt.xlabel(f'{col}')\n",
    "    plt.show()"
   ]
  },
  {
   "cell_type": "markdown",
   "metadata": {},
   "source": [
    "Przeanalizowano wpływ zmiennej związanej z dochodem w gospodarstwie. Jak widać im więcej dochodu w gospodastwie tym większe prawdopodobieństwo, że osoba jest w związku małżeńskim.\n",
    "\n",
    "Wariancja zmienne sugeruje, że zmienna ta jest istotna w modelu."
   ]
  },
  {
   "cell_type": "code",
   "execution_count": 24,
   "metadata": {},
   "outputs": [
    {
     "data": {
      "image/png": "[encoded data removed]",
      "text/plain": [
       "<Figure size 432x288 with 1 Axes>"
      ]
     },
     "metadata": {},
     "output_type": "display_data"
    },
    {
     "name": "stdout",
     "output_type": "stream",
     "text": [
      "{0: 'Less than $5,000', 1: '$5,000 to $7,499', 2: '$7,500 to $9,999', 3: '$10,000 to $12,499', 4: '$12,500 to $14,999', 5: '$15,000 to $19,999', 6: '$20,000 to $24,999', 7: '$25,000 to $29,999', 8: '$30,000 to $34,999', 9: '$35,000 to $39,999', 10: '$40,000 to $49,999', 11: '$50,000 to $59,999', 12: '$60,000 to $74,999', 13: '$75,000 to $84,999', 14: '$85,000 to $99,999', 15: '$100,000 to $124,999', 16: '$125,000 to $149,999', 17: '$150,000 to $174,999', 18: '$175,000 to $199,999', 19: '$200,000 to $249,999', 20: '$250,000 or more'}\n"
     ]
    }
   ],
   "source": [
    "ceteris_paribus_plot(svm_model, 100, X, True, 'ppincimp', categories_dict)"
   ]
  },
  {
   "cell_type": "markdown",
   "metadata": {},
   "source": [
    "Druga zmienna oznacza preferencje polityczne. Zmienna tak - jak wynika z wykresu - prawdopodobnie nie ogrywa znaczącej roli w modelu."
   ]
  },
  {
   "cell_type": "code",
   "execution_count": 21,
   "metadata": {},
   "outputs": [
    {
     "data": {
      "image/png": "[encoded data removed]",
      "text/plain": [
       "<Figure size 432x288 with 1 Axes>"
      ]
     },
     "metadata": {},
     "output_type": "display_data"
    },
    {
     "name": "stdout",
     "output_type": "stream",
     "text": [
      "{0: 'Strong Republican', 1: 'Not Strong Republican', 2: 'Leans Republican', 3: 'Undecided/Independent/Other', 4: 'Leans Democrat', 5: 'Not Strong Democrat', 6: 'Strong Democrat'}\n"
     ]
    }
   ],
   "source": [
    "ceteris_paribus_plot(svm_model, 100, X, True, \"partyid7\", categories_dict)"
   ]
  }
 ],
 "metadata": {
  "kernelspec": {
   "display_name": "Python 2",
   "language": "python",
   "name": "python2"
  },
  "language_info": {
   "codemirror_mode": {
    "name": "ipython",
    "version": 2
   },
   "file_extension": ".py",
   "mimetype": "text/x-python",
   "name": "python",
   "nbconvert_exporter": "python",
   "pygments_lexer": "ipython2",
   "version": "2.7.6"
  }
 },
 "nbformat": 4,
 "nbformat_minor": 0
}
